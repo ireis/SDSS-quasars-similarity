{
 "cells": [
  {
   "cell_type": "code",
   "execution_count": null,
   "metadata": {
    "collapsed": true
   },
   "outputs": [],
   "source": [
    "import pandas "
   ]
  },
  {
   "cell_type": "code",
   "execution_count": null,
   "metadata": {
    "collapsed": true
   },
   "outputs": [],
   "source": [
    "import matplotlib.pyplot as plt\n",
    "import matplotlib.image as mpimg\n",
    "\n",
    "def get_nearest_neighbors(plate_mjd_fiber, ngbs_df, n_ngbs = 10 , plot_spectra = False):\n",
    "    df_size = ngbs_df.shape[1]\n",
    "    n_ngbs = min(df_size, n_ngbs)\n",
    "    columns = [str(i) for i in range(n_ngbs)]\n",
    "    \n",
    "    for c in columns:\n",
    "        plate, mjd, fiber = ngbs_df[c].loc[plate_mjd_fiber].split('-')\n",
    "        plate_mjd_fiber_ngb = plate + '-' + mjd + '-' + fiber\n",
    "        print(plate_mjd_fiber_ngb, 'http://skyserver.sdss.org/dr14/en/tools/explore/summary.aspx?plate='+plate+\n",
    "                                                                          '&mjd='+mjd+\n",
    "                                                                          '&fiber=' + fiber)\n",
    "        if plot_spectra:\n",
    "            dr14_specobjid = ngbs_df['SpeccObjID'].loc[plate_mjd_fiber_ngb]\n",
    "            plt.figure(figsize = (17,15))\n",
    "            plt.imshow(mpimg.imread('http://skyserver.sdss.org/dr14/en/get/SpecById.ashx?id=' + dr14_specobjid))\n",
    "            plt.show()\n",
    "    return"
   ]
  },
  {
   "cell_type": "code",
   "execution_count": null,
   "metadata": {
    "collapsed": false
   },
   "outputs": [],
   "source": [
    "### Need to unzip the nearest neighbors data\n",
    "#!tar -zxvf ERT_neighbors_DF.tar.gz"
   ]
  },
  {
   "cell_type": "markdown",
   "metadata": {},
   "source": [
    "#### The entries in the table are 'plate-mjd-fiber', the columns represent the nearest neighbor rank. This ranking is based on ERT similarity, see (...) for description and (https://github.com/ireis/ERT-similarity) for code"
   ]
  },
  {
   "cell_type": "code",
   "execution_count": null,
   "metadata": {
    "collapsed": false
   },
   "outputs": [],
   "source": [
    "ERT_neighbors_DF = pandas.read_csv('ERT_neighbors_DF.csv', index_col=0)\n",
    "ERT_neighbors_DF.head()"
   ]
  },
  {
   "cell_type": "markdown",
   "metadata": {},
   "source": [
    "# Example for retrieving quasars with similar spectra\n",
    "## plate-mjd-fiber = 6464-56309-524 is an Extremely Red Quasar (ERQ) (see https://ui.adsabs.harvard.edu/?#abs/2017MNRAS.464.3431H)\n",
    "### We retrieve its nearest neighbors and get objects with similar spectra, which can be ERQ candidates. Other examples to try:\n",
    "* '6759-56416-574' - LoBAL\n",
    "* '6112-56191-192' - DLA"
   ]
  },
  {
   "cell_type": "code",
   "execution_count": null,
   "metadata": {
    "collapsed": false,
    "scrolled": false
   },
   "outputs": [],
   "source": [
    "get_nearest_neighbors('6464-56309-524', ERT_neighbors_DF, 5, plot_spectra=True)"
   ]
  },
  {
   "cell_type": "code",
   "execution_count": null,
   "metadata": {
    "collapsed": false
   },
   "outputs": [],
   "source": [
    "get_nearest_neighbors('6464-56309-524', ERT_neighbors_DF, 5, plot_spectra=False)"
   ]
  },
  {
   "cell_type": "code",
   "execution_count": null,
   "metadata": {
    "collapsed": false
   },
   "outputs": [],
   "source": []
  },
  {
   "cell_type": "code",
   "execution_count": null,
   "metadata": {
    "collapsed": false
   },
   "outputs": [],
   "source": []
  },
  {
   "cell_type": "code",
   "execution_count": null,
   "metadata": {
    "collapsed": false
   },
   "outputs": [],
   "source": []
  },
  {
   "cell_type": "code",
   "execution_count": null,
   "metadata": {
    "collapsed": true
   },
   "outputs": [],
   "source": []
  }
 ],
 "metadata": {
  "kernelspec": {
   "display_name": "Python 3",
   "language": "python",
   "name": "python3"
  },
  "language_info": {
   "codemirror_mode": {
    "name": "ipython",
    "version": 3
   },
   "file_extension": ".py",
   "mimetype": "text/x-python",
   "name": "python",
   "nbconvert_exporter": "python",
   "pygments_lexer": "ipython3",
   "version": "3.5.2"
  }
 },
 "nbformat": 4,
 "nbformat_minor": 2
}
